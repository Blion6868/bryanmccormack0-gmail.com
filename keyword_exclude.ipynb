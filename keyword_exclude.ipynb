{
 "cells": [
  {
   "cell_type": "code",
   "execution_count": 1,
   "metadata": {},
   "outputs": [],
   "source": [
    "import pandas as pd\n",
    "\n",
    "data = pd.read_csv(r'C:\\Users\\bryan\\Documents\\ADDITIONAL_ASINS_P&G_6.13.19.csv')\n",
    "data = data.astype(str)\n",
    "df = pd.DataFrame(data, columns = [\"Date Added\",\"Track Item\",\"Retailer\",\"Retailer Item ID\",\"TLD\",\"UPC\",\"Title\",\n",
    "                                   \"Manufacturer\",\"Brand\",\"Client Product Group\",\"Category\",\"Subcategory\",\"Amazon Sub Category\",\"Segment\",\"Platform\"])"
   ]
  },
  {
   "cell_type": "code",
   "execution_count": 2,
   "metadata": {},
   "outputs": [],
   "source": [
    "excludes = ['chainsaw','pail','leaf','blower','genie','straightener','backpack','iron','curling','dog','cat','wig']\n",
    "my_excludes = [set(exclude.lower().split()) for exclude in excludes]\n",
    "\n",
    "def is_match(title):\n",
    "    if any(keywords.issubset(title.lower().split()) for keywords in my_excludes):\n",
    "        return True\n",
    "    return False"
   ]
  },
  {
   "cell_type": "code",
   "execution_count": 10,
   "metadata": {},
   "outputs": [],
   "source": [
    "df['match_titles'] = df['Title'].apply(is_match)\n",
    "df.loc[df['match_titles'] == True, 'Track Item'] = 'Z-EXCLUDE'\n",
    "df.to_csv('Excludes_5_27_20.csv',index=False)"
   ]
  }
 ],
 "metadata": {
  "kernelspec": {
   "display_name": "Python 3",
   "language": "python",
   "name": "python3"
  },
  "language_info": {
   "codemirror_mode": {
    "name": "ipython",
    "version": 3
   },
   "file_extension": ".py",
   "mimetype": "text/x-python",
   "name": "python",
   "nbconvert_exporter": "python",
   "pygments_lexer": "ipython3",
   "version": "3.7.6"
  }
 },
 "nbformat": 4,
 "nbformat_minor": 2
}
