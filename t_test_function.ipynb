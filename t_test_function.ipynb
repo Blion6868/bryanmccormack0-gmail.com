{
 "cells": [
  {
   "cell_type": "code",
   "execution_count": 1,
   "metadata": {},
   "outputs": [],
   "source": [
    "import math\n",
    "import numpy as np\n",
    "import pandas as pd\n",
    "from statistics import *\n",
    "from scipy import stats"
   ]
  },
  {
   "cell_type": "code",
   "execution_count": 2,
   "metadata": {},
   "outputs": [],
   "source": [
    "DepA = [1184,1203,1219,1238,1243,1204,1269,1256,1156,1248]\n",
    "DepB = [1136,1178,1212,1193,1226,1154,1230,1222,1161,1148]"
   ]
  },
  {
   "cell_type": "code",
   "execution_count": 34,
   "metadata": {},
   "outputs": [],
   "source": [
    "def t_test(DepA, DepB):\n",
    "    sum_DepA = sum(DepA)\n",
    "    sum_DepB = sum(DepB)\n",
    "    \n",
    "    mean_DepA = mean(DepA)\n",
    "    mean_DepB = mean(DepB)\n",
    "    \n",
    "    var_DepA = np.var(DepA)\n",
    "    var_DepB = np.var(DepB)\n",
    "    \n",
    "    n_1 = len(DepA)\n",
    "    n_2 = len(DepB)\n",
    "    \n",
    "    deg_free = n_1 + n_2 - 2\n",
    "    \n",
    "    top = mean_DepA - mean_DepB\n",
    "    \n",
    "    bottom = var_DepA / n_1 + var_DepB / n_2\n",
    "    \n",
    "    bottoms = math.sqrt(bottom)\n",
    "    \n",
    "    t_value = top / bottoms\n",
    "    \n",
    "    proba = 0.05\n",
    "    \n",
    "    n = len(DepA)\n",
    "    \n",
    "    critical_T = stats.t.ppf(1 - proba, n)\n",
    "    \n",
    "  \n",
    "    if t_value > critical_T:\n",
    "        print(\"We reject the NULL hypothesis.\")\n",
    "    else:\n",
    "        print(\"We accept the NULL hypothesis.\")\n",
    "    \n",
    "    return t_value, critical_T"
   ]
  },
  {
   "cell_type": "code",
   "execution_count": 35,
   "metadata": {},
   "outputs": [
    {
     "name": "stdout",
     "output_type": "stream",
     "text": [
      "We reject the NULL hypothesis.\n"
     ]
    },
    {
     "data": {
      "text/plain": [
       "(2.4028851943898197, 1.8124611228107335)"
      ]
     },
     "execution_count": 35,
     "metadata": {},
     "output_type": "execute_result"
    }
   ],
   "source": [
    "t_test(DepA, DepB)"
   ]
  },
  {
   "cell_type": "code",
   "execution_count": null,
   "metadata": {},
   "outputs": [],
   "source": []
  },
  {
   "cell_type": "code",
   "execution_count": null,
   "metadata": {},
   "outputs": [],
   "source": []
  }
 ],
 "metadata": {
  "kernelspec": {
   "display_name": "Python 3",
   "language": "python",
   "name": "python3"
  },
  "language_info": {
   "codemirror_mode": {
    "name": "ipython",
    "version": 3
   },
   "file_extension": ".py",
   "mimetype": "text/x-python",
   "name": "python",
   "nbconvert_exporter": "python",
   "pygments_lexer": "ipython3",
   "version": "3.7.6"
  }
 },
 "nbformat": 4,
 "nbformat_minor": 4
}
