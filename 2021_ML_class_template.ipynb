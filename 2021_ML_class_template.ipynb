{
 "cells": [
  {
   "cell_type": "code",
   "execution_count": 54,
   "metadata": {},
   "outputs": [],
   "source": [
    "import pandas as pd\n",
    "import numpy as np\n",
    "from sklearn.linear_model import LogisticRegression\n",
    "from sklearn.ensemble import RandomForestClassifier\n",
    "from sklearn.model_selection import train_test_split"
   ]
  },
  {
   "cell_type": "code",
   "execution_count": 78,
   "metadata": {},
   "outputs": [],
   "source": [
    "#adapted from Jose Portilla's Udemy Data Science class"
   ]
  },
  {
   "cell_type": "code",
   "execution_count": 76,
   "metadata": {},
   "outputs": [],
   "source": [
    "class Model:\n",
    "    def __init__ (self, data=r\"C:\\Users\\bryan\\Desktop\\New_Data_Science_Class\\DATA\\iris.csv\"):\n",
    "        self.df = pd.read_csv(data)\n",
    "        self.random_forest = RandomForestClassifier()\n",
    "        self.logistic_reg = LogisticRegression()\n",
    "    \n",
    "    def dummy(self):\n",
    "        self.df[\"species\"] = df[\"species\"].map({\"setosa\": 0, \"virginica\": 1, \"versicolor\":2})\n",
    "    \n",
    "    def split_data(self, test_size):\n",
    "        X = self.df[['sepal_length','sepal_width','petal_length','petal_width']]\n",
    "        y = self.df['species']\n",
    "        self.X_train, self.X_test, self.y_train, self.y_test = train_test_split(X, y, test_size=test_size, random_state=42)\n",
    "    \n",
    "    def fit(self):\n",
    "        self.model = self.random_forest.fit(self.X_train, self.y_train)\n",
    "    \n",
    "    def predict(self, input_value):\n",
    "        if input_value == None:\n",
    "            result = self.random_forest.predict(self.X_test)\n",
    "        else: \n",
    "            result = self.random_forest.predict(np.array([input_value]))\n",
    "        return result"
   ]
  },
  {
   "cell_type": "code",
   "execution_count": 77,
   "metadata": {},
   "outputs": [
    {
     "name": "stdout",
     "output_type": "stream",
     "text": [
      "Accuracy:  1.0\n",
      "['setosa']\n"
     ]
    }
   ],
   "source": [
    "new = [5.1, 3.5, 1.4, 0.2]\n",
    "\n",
    "\n",
    "if __name__ == '__main__':\n",
    "    model_instance = Model()\n",
    "    model_instance.split_data(0.3)\n",
    "    model_instance.fit()   \n",
    "    model_instance.predict(input_value=new)\n",
    "    print(\"Accuracy: \", model_instance.model.score(model_instance.X_test, model_instance.y_test))\n",
    "    print(model_instance.predict(input_value=new))"
   ]
  },
  {
   "cell_type": "code",
   "execution_count": 71,
   "metadata": {},
   "outputs": [],
   "source": [
    "class Model:\n",
    "    def __init__ (self, data=r\"C:\\Users\\bryan\\Desktop\\New_Data_Science_Class\\DATA\\iris.csv\"):\n",
    "        self.df = pd.read_csv(data)\n",
    "        self.logistic_reg = LogisticRegression()\n",
    "    \n",
    "    def dummy(self):\n",
    "        self.df[\"species\"] = df[\"species\"].map({\"setosa\": 0, \"virginica\": 1, \"versicolor\":2})\n",
    "    \n",
    "    def split_data(self, test_size):\n",
    "        X = self.df[['sepal_length','sepal_width','petal_length','petal_width']]\n",
    "        y = self.df['species']\n",
    "        self.X_train, self.X_test, self.y_train, self.y_test = train_test_split(X, y, test_size=test_size, random_state=42)\n",
    "    \n",
    "    def fit(self):\n",
    "        self.model = self.logistic_reg.fit(self.X_train, self.y_train)\n",
    "    \n",
    "    def predict(self, input_value):\n",
    "        if input_value == None:\n",
    "            result = self.logistic_reg.predict(self.X_test)\n",
    "        else: \n",
    "            result = self.logistic_reg.predict(np.array([input_values]))\n",
    "        return result"
   ]
  },
  {
   "cell_type": "code",
   "execution_count": 74,
   "metadata": {},
   "outputs": [
    {
     "name": "stdout",
     "output_type": "stream",
     "text": [
      "Accuracy:  1.0\n",
      "['versicolor' 'setosa' 'virginica' 'versicolor' 'versicolor' 'setosa'\n",
      " 'versicolor' 'virginica' 'versicolor' 'versicolor' 'virginica' 'setosa'\n",
      " 'setosa' 'setosa' 'setosa' 'versicolor' 'virginica' 'versicolor'\n",
      " 'versicolor' 'virginica' 'setosa' 'virginica' 'setosa' 'virginica'\n",
      " 'virginica' 'virginica' 'virginica' 'virginica' 'setosa' 'setosa']\n"
     ]
    }
   ],
   "source": [
    "if __name__ == '__main__':\n",
    "    model_instance = Model()\n",
    "    model_instance.split_data(0.2)\n",
    "    model_instance.fit()    \n",
    "    model_instance.predict(input_value=None)\n",
    "    print(\"Accuracy: \", model_instance.model.score(model_instance.X_test, model_instance.y_test))\n",
    "    print(model_instance.predict(input_value=None))"
   ]
  },
  {
   "cell_type": "code",
   "execution_count": null,
   "metadata": {},
   "outputs": [],
   "source": []
  },
  {
   "cell_type": "code",
   "execution_count": null,
   "metadata": {},
   "outputs": [],
   "source": []
  },
  {
   "cell_type": "code",
   "execution_count": null,
   "metadata": {},
   "outputs": [],
   "source": []
  },
  {
   "cell_type": "code",
   "execution_count": null,
   "metadata": {},
   "outputs": [],
   "source": []
  },
  {
   "cell_type": "code",
   "execution_count": null,
   "metadata": {},
   "outputs": [],
   "source": []
  },
  {
   "cell_type": "code",
   "execution_count": null,
   "metadata": {},
   "outputs": [],
   "source": []
  },
  {
   "cell_type": "code",
   "execution_count": null,
   "metadata": {},
   "outputs": [],
   "source": []
  },
  {
   "cell_type": "code",
   "execution_count": null,
   "metadata": {},
   "outputs": [],
   "source": []
  },
  {
   "cell_type": "code",
   "execution_count": null,
   "metadata": {},
   "outputs": [],
   "source": []
  },
  {
   "cell_type": "code",
   "execution_count": null,
   "metadata": {},
   "outputs": [],
   "source": []
  },
  {
   "cell_type": "code",
   "execution_count": null,
   "metadata": {},
   "outputs": [],
   "source": []
  },
  {
   "cell_type": "code",
   "execution_count": null,
   "metadata": {},
   "outputs": [],
   "source": []
  },
  {
   "cell_type": "code",
   "execution_count": null,
   "metadata": {},
   "outputs": [],
   "source": []
  },
  {
   "cell_type": "code",
   "execution_count": null,
   "metadata": {},
   "outputs": [],
   "source": []
  },
  {
   "cell_type": "code",
   "execution_count": null,
   "metadata": {},
   "outputs": [],
   "source": []
  },
  {
   "cell_type": "code",
   "execution_count": null,
   "metadata": {},
   "outputs": [],
   "source": []
  },
  {
   "cell_type": "code",
   "execution_count": null,
   "metadata": {},
   "outputs": [],
   "source": []
  },
  {
   "cell_type": "code",
   "execution_count": null,
   "metadata": {},
   "outputs": [],
   "source": []
  },
  {
   "cell_type": "code",
   "execution_count": null,
   "metadata": {},
   "outputs": [],
   "source": []
  },
  {
   "cell_type": "code",
   "execution_count": null,
   "metadata": {},
   "outputs": [],
   "source": []
  },
  {
   "cell_type": "code",
   "execution_count": null,
   "metadata": {},
   "outputs": [],
   "source": []
  },
  {
   "cell_type": "code",
   "execution_count": null,
   "metadata": {},
   "outputs": [],
   "source": []
  },
  {
   "cell_type": "code",
   "execution_count": null,
   "metadata": {},
   "outputs": [],
   "source": []
  },
  {
   "cell_type": "code",
   "execution_count": null,
   "metadata": {},
   "outputs": [],
   "source": []
  },
  {
   "cell_type": "code",
   "execution_count": null,
   "metadata": {},
   "outputs": [],
   "source": []
  },
  {
   "cell_type": "code",
   "execution_count": null,
   "metadata": {},
   "outputs": [],
   "source": []
  },
  {
   "cell_type": "code",
   "execution_count": null,
   "metadata": {},
   "outputs": [],
   "source": []
  }
 ],
 "metadata": {
  "kernelspec": {
   "display_name": "Python 3",
   "language": "python",
   "name": "python3"
  },
  "language_info": {
   "codemirror_mode": {
    "name": "ipython",
    "version": 3
   },
   "file_extension": ".py",
   "mimetype": "text/x-python",
   "name": "python",
   "nbconvert_exporter": "python",
   "pygments_lexer": "ipython3",
   "version": "3.7.9"
  }
 },
 "nbformat": 4,
 "nbformat_minor": 4
}
