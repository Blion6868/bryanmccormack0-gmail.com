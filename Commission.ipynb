{
 "cells": [
  {
   "cell_type": "code",
   "execution_count": 435,
   "metadata": {},
   "outputs": [],
   "source": [
    "class Commission:\n",
    "    \n",
    "    number_of_checks = 0\n",
    "    bonus_amt = .04\n",
    "    tax_amt = .46\n",
    "    \n",
    "    def __init__(self, call, permit, install):\n",
    "        self.call = call\n",
    "        self.permit = permit\n",
    "        self.install = install\n",
    "        \n",
    "        Commission.number_of_checks += 1\n",
    "        \n",
    "    def pay_pre_tax(self):\n",
    "        calls = 300\n",
    "        permits = 200\n",
    "        installs = 500\n",
    "        self.total = calls * self.call + permits * self.permit + installs * self.install\n",
    "        return self.total\n",
    "\n",
    "    def taxes(self):\n",
    "        self.tax_rate = .46 * self.total / 100\n",
    "        return self.tax_rate\n",
    "    \n",
    "    def apply_bonus(self):\n",
    "        self.bonus = self.bonus_amt * self.total / 100\n",
    "        return self.bonus\n",
    "    \n",
    "    def total_pay(self):\n",
    "        total_pay = self.total - self.tax_rate + self.bonus\n",
    "        return total_pay\n",
    "    \n",
    "    @classmethod\n",
    "    def set_bonus_amt(cls, amount):\n",
    "        cls.bonus_amt = amount\n",
    "    \n",
    "    @classmethod\n",
    "    def set_tax_amt(cls, amount):\n",
    "        cls.tax_amt = amount"
   ]
  },
  {
   "cell_type": "code",
   "execution_count": 422,
   "metadata": {},
   "outputs": [],
   "source": [
    "Pynchon = Commission(1, 2, 3)\n",
    "Delillo = Commission(2, 4, 5)"
   ]
  },
  {
   "cell_type": "code",
   "execution_count": 429,
   "metadata": {},
   "outputs": [],
   "source": [
    "#we can use the @classmethod to change the bonus rate\n",
    "Commission.set_bonus_amt(.05)"
   ]
  },
  {
   "cell_type": "code",
   "execution_count": 430,
   "metadata": {},
   "outputs": [
    {
     "name": "stdout",
     "output_type": "stream",
     "text": [
      "2200\n",
      "10.12\n",
      "1.1\n",
      "2190.98\n"
     ]
    }
   ],
   "source": [
    "print(Pynchon.pay_pre_tax())\n",
    "print(Pynchon.taxes())\n",
    "print(Pynchon.apply_bonus())\n",
    "print(Pynchon.total_pay())"
   ]
  },
  {
   "cell_type": "code",
   "execution_count": 431,
   "metadata": {},
   "outputs": [
    {
     "name": "stdout",
     "output_type": "stream",
     "text": [
      "{'call': 1, 'permit': 2, 'install': 3, 'total': 2200, 'tax_rate': 10.12, 'bonus': 1.1}\n"
     ]
    }
   ],
   "source": [
    "print(Pynchon.__dict__)"
   ]
  },
  {
   "cell_type": "code",
   "execution_count": 432,
   "metadata": {},
   "outputs": [
    {
     "name": "stdout",
     "output_type": "stream",
     "text": [
      "3900\n",
      "17.94\n",
      "1.95\n",
      "3884.0099999999998\n"
     ]
    }
   ],
   "source": [
    "print(Delillo.pay_pre_tax())\n",
    "print(Delillo.taxes())\n",
    "print(Delillo.apply_bonus())\n",
    "print(Delillo.total_pay())"
   ]
  },
  {
   "cell_type": "code",
   "execution_count": 433,
   "metadata": {},
   "outputs": [
    {
     "name": "stdout",
     "output_type": "stream",
     "text": [
      "{'call': 2, 'permit': 4, 'install': 5, 'total': 3900, 'tax_rate': 17.94, 'bonus': 1.95}\n"
     ]
    }
   ],
   "source": [
    "print(Delillo.__dict__)"
   ]
  },
  {
   "cell_type": "code",
   "execution_count": 434,
   "metadata": {},
   "outputs": [
    {
     "name": "stdout",
     "output_type": "stream",
     "text": [
      "2\n"
     ]
    }
   ],
   "source": [
    "print(Commission.number_of_checks)"
   ]
  },
  {
   "cell_type": "code",
   "execution_count": 428,
   "metadata": {},
   "outputs": [],
   "source": []
  },
  {
   "cell_type": "code",
   "execution_count": null,
   "metadata": {},
   "outputs": [],
   "source": []
  },
  {
   "cell_type": "code",
   "execution_count": null,
   "metadata": {},
   "outputs": [],
   "source": []
  },
  {
   "cell_type": "code",
   "execution_count": null,
   "metadata": {},
   "outputs": [],
   "source": []
  },
  {
   "cell_type": "code",
   "execution_count": null,
   "metadata": {},
   "outputs": [],
   "source": []
  },
  {
   "cell_type": "code",
   "execution_count": null,
   "metadata": {},
   "outputs": [],
   "source": []
  },
  {
   "cell_type": "code",
   "execution_count": null,
   "metadata": {},
   "outputs": [],
   "source": []
  },
  {
   "cell_type": "code",
   "execution_count": null,
   "metadata": {},
   "outputs": [],
   "source": []
  },
  {
   "cell_type": "code",
   "execution_count": null,
   "metadata": {},
   "outputs": [],
   "source": []
  },
  {
   "cell_type": "code",
   "execution_count": null,
   "metadata": {},
   "outputs": [],
   "source": []
  },
  {
   "cell_type": "code",
   "execution_count": null,
   "metadata": {},
   "outputs": [],
   "source": []
  },
  {
   "cell_type": "code",
   "execution_count": null,
   "metadata": {},
   "outputs": [],
   "source": []
  },
  {
   "cell_type": "code",
   "execution_count": null,
   "metadata": {},
   "outputs": [],
   "source": []
  },
  {
   "cell_type": "code",
   "execution_count": null,
   "metadata": {},
   "outputs": [],
   "source": []
  },
  {
   "cell_type": "code",
   "execution_count": null,
   "metadata": {},
   "outputs": [],
   "source": []
  },
  {
   "cell_type": "code",
   "execution_count": null,
   "metadata": {},
   "outputs": [],
   "source": []
  },
  {
   "cell_type": "code",
   "execution_count": null,
   "metadata": {},
   "outputs": [],
   "source": []
  },
  {
   "cell_type": "code",
   "execution_count": null,
   "metadata": {},
   "outputs": [],
   "source": []
  },
  {
   "cell_type": "code",
   "execution_count": null,
   "metadata": {},
   "outputs": [],
   "source": []
  },
  {
   "cell_type": "code",
   "execution_count": null,
   "metadata": {},
   "outputs": [],
   "source": []
  },
  {
   "cell_type": "code",
   "execution_count": null,
   "metadata": {},
   "outputs": [],
   "source": []
  },
  {
   "cell_type": "code",
   "execution_count": null,
   "metadata": {},
   "outputs": [],
   "source": []
  },
  {
   "cell_type": "code",
   "execution_count": null,
   "metadata": {},
   "outputs": [],
   "source": []
  },
  {
   "cell_type": "code",
   "execution_count": null,
   "metadata": {},
   "outputs": [],
   "source": []
  },
  {
   "cell_type": "code",
   "execution_count": null,
   "metadata": {},
   "outputs": [],
   "source": []
  },
  {
   "cell_type": "code",
   "execution_count": null,
   "metadata": {},
   "outputs": [],
   "source": []
  }
 ],
 "metadata": {
  "kernelspec": {
   "display_name": "Python 3",
   "language": "python",
   "name": "python3"
  },
  "language_info": {
   "codemirror_mode": {
    "name": "ipython",
    "version": 3
   },
   "file_extension": ".py",
   "mimetype": "text/x-python",
   "name": "python",
   "nbconvert_exporter": "python",
   "pygments_lexer": "ipython3",
   "version": "3.7.6"
  }
 },
 "nbformat": 4,
 "nbformat_minor": 4
}
