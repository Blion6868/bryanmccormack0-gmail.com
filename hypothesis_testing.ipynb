{
 "cells": [
  {
   "cell_type": "code",
   "execution_count": 14,
   "metadata": {},
   "outputs": [],
   "source": [
    "import math\n",
    "import numpy as np\n",
    "import pandas as pd\n",
    "from statistics import *\n",
    "from scipy import stats"
   ]
  },
  {
   "cell_type": "code",
   "execution_count": 32,
   "metadata": {},
   "outputs": [],
   "source": [
    "n = 400\n",
    "p_hat = .58\n",
    "p = .50\n",
    "q = 1 - p"
   ]
  },
  {
   "cell_type": "code",
   "execution_count": 51,
   "metadata": {},
   "outputs": [],
   "source": [
    "def hypo_test(n, p_hat, p, q):\n",
    "    \n",
    "    top = p_hat - p\n",
    "    \n",
    "    bottom = math.sqrt(p * q / n)\n",
    "    \n",
    "    Z = top / bottom\n",
    "    \n",
    "    sig_level = 0.05 #for 95%\n",
    "    \n",
    "    critical_T = stats.t.ppf(1 - sig_level, n)\n",
    "    \n",
    "    \n",
    "    if Z > critical_T:\n",
    "        print(\"We reject the NULL hypothesis\")\n",
    "    else:\n",
    "        print(\"We fail to reject the NULL hgypothesis\")\n",
    "        \n",
    "    print(f\"{Z} is our Z-value.\")\n",
    "    print(f\"{critical_T} is our critical value.\")"
   ]
  },
  {
   "cell_type": "code",
   "execution_count": 52,
   "metadata": {},
   "outputs": [
    {
     "name": "stdout",
     "output_type": "stream",
     "text": [
      "We reject the NULL hypothesis\n",
      "3.1999999999999984 is our Z-value.\n",
      "1.648671941465395 is our critical value.\n"
     ]
    }
   ],
   "source": [
    "hypo_test(400, .58, .50, 1 - p)"
   ]
  },
  {
   "cell_type": "code",
   "execution_count": null,
   "metadata": {},
   "outputs": [],
   "source": []
  },
  {
   "cell_type": "code",
   "execution_count": null,
   "metadata": {},
   "outputs": [],
   "source": []
  }
 ],
 "metadata": {
  "kernelspec": {
   "display_name": "Python 3",
   "language": "python",
   "name": "python3"
  },
  "language_info": {
   "codemirror_mode": {
    "name": "ipython",
    "version": 3
   },
   "file_extension": ".py",
   "mimetype": "text/x-python",
   "name": "python",
   "nbconvert_exporter": "python",
   "pygments_lexer": "ipython3",
   "version": "3.7.6"
  }
 },
 "nbformat": 4,
 "nbformat_minor": 4
}
