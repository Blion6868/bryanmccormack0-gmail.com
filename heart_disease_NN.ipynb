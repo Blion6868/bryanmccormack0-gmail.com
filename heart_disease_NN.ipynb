{
 "cells": [
  {
   "cell_type": "code",
   "execution_count": 62,
   "metadata": {},
   "outputs": [],
   "source": [
    "#imports\n",
    "import pandas as pd\n",
    "import numpy as np\n",
    "import matplotlib.pyplot as plt\n",
    "import seaborn as sns\n",
    "\n",
    "from tensorflow.keras.layers import Dense, Dropout\n",
    "import tensorflow as tf\n",
    "from tensorflow import keras\n",
    "from tensorflow.keras.callbacks import EarlyStopping"
   ]
  },
  {
   "cell_type": "code",
   "execution_count": 63,
   "metadata": {},
   "outputs": [],
   "source": [
    "df = pd.read_csv(r\"C:\\Users\\bryan\\Desktop\\heart.csv\")"
   ]
  },
  {
   "cell_type": "code",
   "execution_count": null,
   "metadata": {},
   "outputs": [],
   "source": [
    "#dataset courtesy of Kaggle: https://www.kaggle.com/ronitf/heart-disease-uci"
   ]
  },
  {
   "cell_type": "code",
   "execution_count": 64,
   "metadata": {},
   "outputs": [
    {
     "data": {
      "text/html": [
       "<div>\n",
       "<style scoped>\n",
       "    .dataframe tbody tr th:only-of-type {\n",
       "        vertical-align: middle;\n",
       "    }\n",
       "\n",
       "    .dataframe tbody tr th {\n",
       "        vertical-align: top;\n",
       "    }\n",
       "\n",
       "    .dataframe thead th {\n",
       "        text-align: right;\n",
       "    }\n",
       "</style>\n",
       "<table border=\"1\" class=\"dataframe\">\n",
       "  <thead>\n",
       "    <tr style=\"text-align: right;\">\n",
       "      <th></th>\n",
       "      <th>age</th>\n",
       "      <th>sex</th>\n",
       "      <th>cp</th>\n",
       "      <th>trestbps</th>\n",
       "      <th>chol</th>\n",
       "      <th>fbs</th>\n",
       "      <th>restecg</th>\n",
       "      <th>thalach</th>\n",
       "      <th>exang</th>\n",
       "      <th>oldpeak</th>\n",
       "      <th>slope</th>\n",
       "      <th>ca</th>\n",
       "      <th>thal</th>\n",
       "      <th>target</th>\n",
       "    </tr>\n",
       "  </thead>\n",
       "  <tbody>\n",
       "    <tr>\n",
       "      <th>0</th>\n",
       "      <td>52</td>\n",
       "      <td>1</td>\n",
       "      <td>0</td>\n",
       "      <td>125</td>\n",
       "      <td>212</td>\n",
       "      <td>0</td>\n",
       "      <td>1</td>\n",
       "      <td>168</td>\n",
       "      <td>0</td>\n",
       "      <td>1.0</td>\n",
       "      <td>2</td>\n",
       "      <td>2</td>\n",
       "      <td>3</td>\n",
       "      <td>0</td>\n",
       "    </tr>\n",
       "    <tr>\n",
       "      <th>1</th>\n",
       "      <td>53</td>\n",
       "      <td>1</td>\n",
       "      <td>0</td>\n",
       "      <td>140</td>\n",
       "      <td>203</td>\n",
       "      <td>1</td>\n",
       "      <td>0</td>\n",
       "      <td>155</td>\n",
       "      <td>1</td>\n",
       "      <td>3.1</td>\n",
       "      <td>0</td>\n",
       "      <td>0</td>\n",
       "      <td>3</td>\n",
       "      <td>0</td>\n",
       "    </tr>\n",
       "    <tr>\n",
       "      <th>2</th>\n",
       "      <td>70</td>\n",
       "      <td>1</td>\n",
       "      <td>0</td>\n",
       "      <td>145</td>\n",
       "      <td>174</td>\n",
       "      <td>0</td>\n",
       "      <td>1</td>\n",
       "      <td>125</td>\n",
       "      <td>1</td>\n",
       "      <td>2.6</td>\n",
       "      <td>0</td>\n",
       "      <td>0</td>\n",
       "      <td>3</td>\n",
       "      <td>0</td>\n",
       "    </tr>\n",
       "    <tr>\n",
       "      <th>3</th>\n",
       "      <td>61</td>\n",
       "      <td>1</td>\n",
       "      <td>0</td>\n",
       "      <td>148</td>\n",
       "      <td>203</td>\n",
       "      <td>0</td>\n",
       "      <td>1</td>\n",
       "      <td>161</td>\n",
       "      <td>0</td>\n",
       "      <td>0.0</td>\n",
       "      <td>2</td>\n",
       "      <td>1</td>\n",
       "      <td>3</td>\n",
       "      <td>0</td>\n",
       "    </tr>\n",
       "    <tr>\n",
       "      <th>4</th>\n",
       "      <td>62</td>\n",
       "      <td>0</td>\n",
       "      <td>0</td>\n",
       "      <td>138</td>\n",
       "      <td>294</td>\n",
       "      <td>1</td>\n",
       "      <td>1</td>\n",
       "      <td>106</td>\n",
       "      <td>0</td>\n",
       "      <td>1.9</td>\n",
       "      <td>1</td>\n",
       "      <td>3</td>\n",
       "      <td>2</td>\n",
       "      <td>0</td>\n",
       "    </tr>\n",
       "  </tbody>\n",
       "</table>\n",
       "</div>"
      ],
      "text/plain": [
       "   age  sex  cp  trestbps  chol  fbs  restecg  thalach  exang  oldpeak  slope  \\\n",
       "0   52    1   0       125   212    0        1      168      0      1.0      2   \n",
       "1   53    1   0       140   203    1        0      155      1      3.1      0   \n",
       "2   70    1   0       145   174    0        1      125      1      2.6      0   \n",
       "3   61    1   0       148   203    0        1      161      0      0.0      2   \n",
       "4   62    0   0       138   294    1        1      106      0      1.9      1   \n",
       "\n",
       "   ca  thal  target  \n",
       "0   2     3       0  \n",
       "1   0     3       0  \n",
       "2   0     3       0  \n",
       "3   1     3       0  \n",
       "4   3     2       0  "
      ]
     },
     "execution_count": 64,
     "metadata": {},
     "output_type": "execute_result"
    }
   ],
   "source": [
    "df.head()"
   ]
  },
  {
   "cell_type": "code",
   "execution_count": 65,
   "metadata": {},
   "outputs": [],
   "source": [
    "X = df[['age','sex','cp','trestbps','chol','fbs','restecg','thalach','exang','oldpeak','slope','ca','thal']].values\n",
    "y = df['target'].values"
   ]
  },
  {
   "cell_type": "code",
   "execution_count": 66,
   "metadata": {},
   "outputs": [],
   "source": [
    "from sklearn.model_selection import train_test_split"
   ]
  },
  {
   "cell_type": "code",
   "execution_count": 67,
   "metadata": {},
   "outputs": [],
   "source": [
    "X_train, X_test, y_train, y_test = train_test_split(X, y, test_size=0.33)"
   ]
  },
  {
   "cell_type": "code",
   "execution_count": 68,
   "metadata": {},
   "outputs": [],
   "source": [
    "#scale data for better predictions\n",
    "\n",
    "from sklearn.preprocessing import StandardScaler\n",
    "\n",
    "scaler = StandardScaler()\n",
    "\n",
    "X_train = scaler.fit_transform(X_train)\n",
    "X_test = scaler.transform(X_test)"
   ]
  },
  {
   "cell_type": "code",
   "execution_count": 69,
   "metadata": {},
   "outputs": [
    {
     "name": "stdout",
     "output_type": "stream",
     "text": [
      "Train on 686 samples, validate on 339 samples\n",
      "Epoch 1/1000\n",
      "686/686 [==============================] - 1s 2ms/sample - loss: 0.7208 - accuracy: 0.5000 - val_loss: 0.6435 - val_accuracy: 0.7050\n",
      "Epoch 2/1000\n",
      "686/686 [==============================] - 0s 169us/sample - loss: 0.6386 - accuracy: 0.6429 - val_loss: 0.5715 - val_accuracy: 0.7935\n",
      "Epoch 3/1000\n",
      "686/686 [==============================] - 0s 130us/sample - loss: 0.5726 - accuracy: 0.7172 - val_loss: 0.5147 - val_accuracy: 0.8171\n",
      "Epoch 4/1000\n",
      "686/686 [==============================] - 0s 194us/sample - loss: 0.5261 - accuracy: 0.7726 - val_loss: 0.4682 - val_accuracy: 0.8378\n",
      "Epoch 5/1000\n",
      "686/686 [==============================] - 0s 210us/sample - loss: 0.4805 - accuracy: 0.7974 - val_loss: 0.4318 - val_accuracy: 0.8407\n",
      "Epoch 6/1000\n",
      "686/686 [==============================] - 0s 197us/sample - loss: 0.4552 - accuracy: 0.8192 - val_loss: 0.4038 - val_accuracy: 0.8348\n",
      "Epoch 7/1000\n",
      "686/686 [==============================] - 0s 122us/sample - loss: 0.4197 - accuracy: 0.8236 - val_loss: 0.3816 - val_accuracy: 0.8525\n",
      "Epoch 8/1000\n",
      "686/686 [==============================] - 0s 186us/sample - loss: 0.4238 - accuracy: 0.8294 - val_loss: 0.3655 - val_accuracy: 0.8643\n",
      "Epoch 9/1000\n",
      "686/686 [==============================] - 0s 137us/sample - loss: 0.4059 - accuracy: 0.8309 - val_loss: 0.3558 - val_accuracy: 0.8820\n",
      "Epoch 10/1000\n",
      "686/686 [==============================] - 0s 158us/sample - loss: 0.3898 - accuracy: 0.8397 - val_loss: 0.3454 - val_accuracy: 0.8820\n",
      "Epoch 11/1000\n",
      "686/686 [==============================] - 0s 230us/sample - loss: 0.3711 - accuracy: 0.8586 - val_loss: 0.3364 - val_accuracy: 0.8909\n",
      "Epoch 12/1000\n",
      "686/686 [==============================] - 0s 151us/sample - loss: 0.3747 - accuracy: 0.8557 - val_loss: 0.3289 - val_accuracy: 0.8879\n",
      "Epoch 13/1000\n",
      "686/686 [==============================] - 0s 217us/sample - loss: 0.3768 - accuracy: 0.8440 - val_loss: 0.3251 - val_accuracy: 0.8879\n",
      "Epoch 14/1000\n",
      "686/686 [==============================] - 0s 196us/sample - loss: 0.3628 - accuracy: 0.8630 - val_loss: 0.3199 - val_accuracy: 0.8879\n",
      "Epoch 15/1000\n",
      "686/686 [==============================] - 0s 138us/sample - loss: 0.3591 - accuracy: 0.8513 - val_loss: 0.3154 - val_accuracy: 0.8879\n",
      "Epoch 16/1000\n",
      "686/686 [==============================] - 0s 138us/sample - loss: 0.3517 - accuracy: 0.8528 - val_loss: 0.3141 - val_accuracy: 0.8850\n",
      "Epoch 17/1000\n",
      "686/686 [==============================] - 0s 179us/sample - loss: 0.3427 - accuracy: 0.8659 - val_loss: 0.3105 - val_accuracy: 0.8820\n",
      "Epoch 18/1000\n",
      "686/686 [==============================] - 0s 166us/sample - loss: 0.3420 - accuracy: 0.8542 - val_loss: 0.3087 - val_accuracy: 0.8909\n",
      "Epoch 19/1000\n",
      "686/686 [==============================] - 0s 130us/sample - loss: 0.3447 - accuracy: 0.8586 - val_loss: 0.3069 - val_accuracy: 0.8938\n",
      "Epoch 20/1000\n",
      "686/686 [==============================] - 0s 191us/sample - loss: 0.3243 - accuracy: 0.8717 - val_loss: 0.3022 - val_accuracy: 0.8997\n",
      "Epoch 21/1000\n",
      "686/686 [==============================] - 0s 182us/sample - loss: 0.3397 - accuracy: 0.8499 - val_loss: 0.3010 - val_accuracy: 0.8997\n",
      "Epoch 22/1000\n",
      "686/686 [==============================] - 0s 194us/sample - loss: 0.3302 - accuracy: 0.8528 - val_loss: 0.2984 - val_accuracy: 0.9027\n",
      "Epoch 23/1000\n",
      "686/686 [==============================] - 0s 167us/sample - loss: 0.3115 - accuracy: 0.8790 - val_loss: 0.2944 - val_accuracy: 0.8938\n",
      "Epoch 24/1000\n",
      "686/686 [==============================] - 0s 203us/sample - loss: 0.3002 - accuracy: 0.8776 - val_loss: 0.2921 - val_accuracy: 0.8997\n",
      "Epoch 25/1000\n",
      "686/686 [==============================] - 0s 208us/sample - loss: 0.3350 - accuracy: 0.8601 - val_loss: 0.2898 - val_accuracy: 0.8938\n",
      "Epoch 26/1000\n",
      "686/686 [==============================] - 0s 176us/sample - loss: 0.2994 - accuracy: 0.8776 - val_loss: 0.2891 - val_accuracy: 0.8938\n",
      "Epoch 27/1000\n",
      "686/686 [==============================] - 0s 123us/sample - loss: 0.3150 - accuracy: 0.8703 - val_loss: 0.2868 - val_accuracy: 0.8938\n",
      "Epoch 28/1000\n",
      "686/686 [==============================] - 0s 138us/sample - loss: 0.3091 - accuracy: 0.8688 - val_loss: 0.2851 - val_accuracy: 0.8938\n",
      "Epoch 29/1000\n",
      "686/686 [==============================] - 0s 125us/sample - loss: 0.3145 - accuracy: 0.8776 - val_loss: 0.2837 - val_accuracy: 0.8938\n",
      "Epoch 30/1000\n",
      "686/686 [==============================] - 0s 142us/sample - loss: 0.2990 - accuracy: 0.8776 - val_loss: 0.2821 - val_accuracy: 0.9027\n",
      "Epoch 31/1000\n",
      "686/686 [==============================] - 0s 135us/sample - loss: 0.2939 - accuracy: 0.8776 - val_loss: 0.2810 - val_accuracy: 0.8909\n",
      "Epoch 32/1000\n",
      "686/686 [==============================] - 0s 211us/sample - loss: 0.2993 - accuracy: 0.8776 - val_loss: 0.2797 - val_accuracy: 0.8968\n",
      "Epoch 33/1000\n",
      "686/686 [==============================] - 0s 168us/sample - loss: 0.2826 - accuracy: 0.8819 - val_loss: 0.2787 - val_accuracy: 0.8909\n",
      "Epoch 34/1000\n",
      "686/686 [==============================] - 0s 153us/sample - loss: 0.2858 - accuracy: 0.8819 - val_loss: 0.2764 - val_accuracy: 0.8820\n",
      "Epoch 35/1000\n",
      "686/686 [==============================] - 0s 121us/sample - loss: 0.3150 - accuracy: 0.8630 - val_loss: 0.2745 - val_accuracy: 0.8879\n",
      "Epoch 36/1000\n",
      "686/686 [==============================] - 0s 124us/sample - loss: 0.2773 - accuracy: 0.8848 - val_loss: 0.2727 - val_accuracy: 0.8879\n",
      "Epoch 37/1000\n",
      "686/686 [==============================] - 0s 169us/sample - loss: 0.2883 - accuracy: 0.8805 - val_loss: 0.2753 - val_accuracy: 0.8909\n",
      "Epoch 38/1000\n",
      "686/686 [==============================] - 0s 153us/sample - loss: 0.2739 - accuracy: 0.8790 - val_loss: 0.2700 - val_accuracy: 0.8820\n",
      "Epoch 39/1000\n",
      "686/686 [==============================] - 0s 194us/sample - loss: 0.2638 - accuracy: 0.8980 - val_loss: 0.2677 - val_accuracy: 0.8850\n",
      "Epoch 40/1000\n",
      "686/686 [==============================] - 0s 200us/sample - loss: 0.2734 - accuracy: 0.8863 - val_loss: 0.2676 - val_accuracy: 0.8909\n",
      "Epoch 41/1000\n",
      "686/686 [==============================] - 0s 190us/sample - loss: 0.2668 - accuracy: 0.8892 - val_loss: 0.2655 - val_accuracy: 0.8909\n",
      "Epoch 42/1000\n",
      "686/686 [==============================] - 0s 196us/sample - loss: 0.2859 - accuracy: 0.8848 - val_loss: 0.2640 - val_accuracy: 0.8968\n",
      "Epoch 43/1000\n",
      "686/686 [==============================] - 0s 195us/sample - loss: 0.2660 - accuracy: 0.9082 - val_loss: 0.2658 - val_accuracy: 0.8879\n",
      "Epoch 44/1000\n",
      "686/686 [==============================] - 0s 195us/sample - loss: 0.2764 - accuracy: 0.8834 - val_loss: 0.2640 - val_accuracy: 0.8879\n",
      "Epoch 45/1000\n",
      "686/686 [==============================] - 0s 203us/sample - loss: 0.2633 - accuracy: 0.9023 - val_loss: 0.2607 - val_accuracy: 0.8879\n",
      "Epoch 46/1000\n",
      "686/686 [==============================] - 0s 187us/sample - loss: 0.2710 - accuracy: 0.8819 - val_loss: 0.2613 - val_accuracy: 0.8879\n",
      "Epoch 47/1000\n",
      "686/686 [==============================] - 0s 215us/sample - loss: 0.2623 - accuracy: 0.8950 - val_loss: 0.2588 - val_accuracy: 0.8968\n",
      "Epoch 48/1000\n",
      "686/686 [==============================] - 0s 180us/sample - loss: 0.2590 - accuracy: 0.8907 - val_loss: 0.2583 - val_accuracy: 0.8909\n",
      "Epoch 49/1000\n",
      "686/686 [==============================] - 0s 188us/sample - loss: 0.2655 - accuracy: 0.8892 - val_loss: 0.2554 - val_accuracy: 0.8938\n",
      "Epoch 50/1000\n",
      "686/686 [==============================] - 0s 188us/sample - loss: 0.2583 - accuracy: 0.8950 - val_loss: 0.2536 - val_accuracy: 0.8850\n",
      "Epoch 51/1000\n",
      "686/686 [==============================] - 0s 195us/sample - loss: 0.2577 - accuracy: 0.8863 - val_loss: 0.2522 - val_accuracy: 0.8879\n",
      "Epoch 52/1000\n",
      "686/686 [==============================] - 0s 189us/sample - loss: 0.2674 - accuracy: 0.8863 - val_loss: 0.2504 - val_accuracy: 0.8879\n",
      "Epoch 53/1000\n",
      "686/686 [==============================] - 0s 191us/sample - loss: 0.2590 - accuracy: 0.8965 - val_loss: 0.2467 - val_accuracy: 0.8938\n",
      "Epoch 54/1000\n",
      "686/686 [==============================] - 0s 201us/sample - loss: 0.2366 - accuracy: 0.8965 - val_loss: 0.2461 - val_accuracy: 0.8968\n",
      "Epoch 55/1000\n",
      "686/686 [==============================] - 0s 196us/sample - loss: 0.2507 - accuracy: 0.8994 - val_loss: 0.2443 - val_accuracy: 0.9086\n",
      "Epoch 56/1000\n",
      "686/686 [==============================] - 0s 176us/sample - loss: 0.2470 - accuracy: 0.9038 - val_loss: 0.2447 - val_accuracy: 0.9027\n",
      "Epoch 57/1000\n",
      "686/686 [==============================] - 0s 198us/sample - loss: 0.2396 - accuracy: 0.9023 - val_loss: 0.2465 - val_accuracy: 0.8909\n",
      "Epoch 58/1000\n",
      "686/686 [==============================] - 0s 205us/sample - loss: 0.2585 - accuracy: 0.8834 - val_loss: 0.2439 - val_accuracy: 0.8938\n",
      "Epoch 59/1000\n",
      "686/686 [==============================] - 0s 193us/sample - loss: 0.2417 - accuracy: 0.9052 - val_loss: 0.2402 - val_accuracy: 0.8909\n",
      "Epoch 60/1000\n",
      "686/686 [==============================] - 0s 207us/sample - loss: 0.2382 - accuracy: 0.8936 - val_loss: 0.2418 - val_accuracy: 0.8938\n",
      "Epoch 61/1000\n",
      "686/686 [==============================] - 0s 191us/sample - loss: 0.2363 - accuracy: 0.8965 - val_loss: 0.2403 - val_accuracy: 0.8997\n",
      "Epoch 62/1000\n",
      "686/686 [==============================] - 0s 202us/sample - loss: 0.2386 - accuracy: 0.8921 - val_loss: 0.2400 - val_accuracy: 0.8938\n",
      "Epoch 63/1000\n",
      "686/686 [==============================] - 0s 193us/sample - loss: 0.2555 - accuracy: 0.8994 - val_loss: 0.2384 - val_accuracy: 0.8938\n",
      "Epoch 64/1000\n",
      "686/686 [==============================] - 0s 190us/sample - loss: 0.2452 - accuracy: 0.8965 - val_loss: 0.2359 - val_accuracy: 0.9056\n",
      "Epoch 65/1000\n",
      "686/686 [==============================] - 0s 194us/sample - loss: 0.2596 - accuracy: 0.8834 - val_loss: 0.2331 - val_accuracy: 0.9027\n",
      "Epoch 66/1000\n",
      "686/686 [==============================] - 0s 208us/sample - loss: 0.2383 - accuracy: 0.8980 - val_loss: 0.2342 - val_accuracy: 0.8997\n",
      "Epoch 67/1000\n",
      "686/686 [==============================] - 0s 198us/sample - loss: 0.2359 - accuracy: 0.8994 - val_loss: 0.2340 - val_accuracy: 0.8997\n",
      "Epoch 68/1000\n",
      "686/686 [==============================] - 0s 199us/sample - loss: 0.2309 - accuracy: 0.8950 - val_loss: 0.2317 - val_accuracy: 0.9056\n",
      "Epoch 69/1000\n",
      "686/686 [==============================] - 0s 190us/sample - loss: 0.2381 - accuracy: 0.8994 - val_loss: 0.2278 - val_accuracy: 0.9056\n",
      "Epoch 70/1000\n",
      "686/686 [==============================] - 0s 203us/sample - loss: 0.2376 - accuracy: 0.8863 - val_loss: 0.2272 - val_accuracy: 0.9086\n",
      "Epoch 71/1000\n",
      "686/686 [==============================] - 0s 180us/sample - loss: 0.2347 - accuracy: 0.9038 - val_loss: 0.2258 - val_accuracy: 0.9056\n",
      "Epoch 72/1000\n",
      "686/686 [==============================] - 0s 197us/sample - loss: 0.2215 - accuracy: 0.8980 - val_loss: 0.2242 - val_accuracy: 0.9086\n",
      "Epoch 73/1000\n",
      "686/686 [==============================] - 0s 188us/sample - loss: 0.2196 - accuracy: 0.8980 - val_loss: 0.2245 - val_accuracy: 0.9056\n",
      "Epoch 74/1000\n",
      "686/686 [==============================] - 0s 188us/sample - loss: 0.2324 - accuracy: 0.9067 - val_loss: 0.2235 - val_accuracy: 0.9115\n",
      "Epoch 75/1000\n",
      "686/686 [==============================] - 0s 196us/sample - loss: 0.2169 - accuracy: 0.9125 - val_loss: 0.2239 - val_accuracy: 0.9056\n",
      "Epoch 76/1000\n",
      "686/686 [==============================] - 0s 192us/sample - loss: 0.2224 - accuracy: 0.9096 - val_loss: 0.2203 - val_accuracy: 0.9056\n",
      "Epoch 77/1000\n",
      "686/686 [==============================] - 0s 191us/sample - loss: 0.2249 - accuracy: 0.9067 - val_loss: 0.2211 - val_accuracy: 0.9115\n",
      "Epoch 78/1000\n",
      "686/686 [==============================] - 0s 203us/sample - loss: 0.2293 - accuracy: 0.9082 - val_loss: 0.2177 - val_accuracy: 0.9174\n",
      "Epoch 79/1000\n",
      "686/686 [==============================] - 0s 188us/sample - loss: 0.2140 - accuracy: 0.9052 - val_loss: 0.2162 - val_accuracy: 0.9056\n",
      "Epoch 80/1000\n",
      "686/686 [==============================] - 0s 191us/sample - loss: 0.2190 - accuracy: 0.9169 - val_loss: 0.2171 - val_accuracy: 0.9115\n",
      "Epoch 81/1000\n",
      "686/686 [==============================] - 0s 180us/sample - loss: 0.2339 - accuracy: 0.9125 - val_loss: 0.2131 - val_accuracy: 0.9145\n",
      "Epoch 82/1000\n",
      "686/686 [==============================] - 0s 188us/sample - loss: 0.1940 - accuracy: 0.9271 - val_loss: 0.2107 - val_accuracy: 0.9145\n",
      "Epoch 83/1000\n",
      "686/686 [==============================] - 0s 187us/sample - loss: 0.2138 - accuracy: 0.9198 - val_loss: 0.2095 - val_accuracy: 0.9115\n",
      "Epoch 84/1000\n",
      "686/686 [==============================] - 0s 211us/sample - loss: 0.2250 - accuracy: 0.8980 - val_loss: 0.2083 - val_accuracy: 0.9115\n",
      "Epoch 85/1000\n",
      "686/686 [==============================] - 0s 199us/sample - loss: 0.2000 - accuracy: 0.9082 - val_loss: 0.2078 - val_accuracy: 0.9086\n",
      "Epoch 86/1000\n",
      "686/686 [==============================] - 0s 177us/sample - loss: 0.2227 - accuracy: 0.9169 - val_loss: 0.2075 - val_accuracy: 0.9086\n",
      "Epoch 87/1000\n",
      "686/686 [==============================] - 0s 182us/sample - loss: 0.2188 - accuracy: 0.9155 - val_loss: 0.2052 - val_accuracy: 0.9174\n",
      "Epoch 88/1000\n",
      "686/686 [==============================] - 0s 183us/sample - loss: 0.2010 - accuracy: 0.9257 - val_loss: 0.2056 - val_accuracy: 0.9086\n",
      "Epoch 89/1000\n",
      "686/686 [==============================] - 0s 198us/sample - loss: 0.2016 - accuracy: 0.9096 - val_loss: 0.2047 - val_accuracy: 0.9263\n",
      "Epoch 90/1000\n",
      "686/686 [==============================] - 0s 189us/sample - loss: 0.2148 - accuracy: 0.9125 - val_loss: 0.2034 - val_accuracy: 0.9145\n",
      "Epoch 91/1000\n",
      "686/686 [==============================] - 0s 190us/sample - loss: 0.1847 - accuracy: 0.9271 - val_loss: 0.1999 - val_accuracy: 0.9174\n",
      "Epoch 92/1000\n",
      "686/686 [==============================] - 0s 199us/sample - loss: 0.2135 - accuracy: 0.9155 - val_loss: 0.1992 - val_accuracy: 0.9204\n",
      "Epoch 93/1000\n",
      "686/686 [==============================] - 0s 181us/sample - loss: 0.1915 - accuracy: 0.9242 - val_loss: 0.1994 - val_accuracy: 0.9204\n",
      "Epoch 94/1000\n",
      "686/686 [==============================] - 0s 201us/sample - loss: 0.2001 - accuracy: 0.9169 - val_loss: 0.1989 - val_accuracy: 0.9086\n",
      "Epoch 95/1000\n",
      "686/686 [==============================] - 0s 188us/sample - loss: 0.1767 - accuracy: 0.9344 - val_loss: 0.1989 - val_accuracy: 0.9086\n",
      "Epoch 96/1000\n",
      "686/686 [==============================] - 0s 203us/sample - loss: 0.2097 - accuracy: 0.9082 - val_loss: 0.1954 - val_accuracy: 0.9174\n",
      "Epoch 97/1000\n",
      "686/686 [==============================] - 0s 181us/sample - loss: 0.2079 - accuracy: 0.9198 - val_loss: 0.1941 - val_accuracy: 0.9263\n",
      "Epoch 98/1000\n",
      "686/686 [==============================] - 0s 195us/sample - loss: 0.1984 - accuracy: 0.9227 - val_loss: 0.1927 - val_accuracy: 0.9322\n",
      "Epoch 99/1000\n",
      "686/686 [==============================] - 0s 180us/sample - loss: 0.2044 - accuracy: 0.9242 - val_loss: 0.1942 - val_accuracy: 0.9322\n",
      "Epoch 100/1000\n",
      "686/686 [==============================] - 0s 192us/sample - loss: 0.2049 - accuracy: 0.9213 - val_loss: 0.1917 - val_accuracy: 0.9381\n",
      "Epoch 101/1000\n",
      "686/686 [==============================] - 0s 188us/sample - loss: 0.1945 - accuracy: 0.9227 - val_loss: 0.1911 - val_accuracy: 0.9351\n",
      "Epoch 102/1000\n",
      "686/686 [==============================] - 0s 186us/sample - loss: 0.2016 - accuracy: 0.9155 - val_loss: 0.1896 - val_accuracy: 0.9351\n",
      "Epoch 103/1000\n",
      "686/686 [==============================] - 0s 193us/sample - loss: 0.1925 - accuracy: 0.9198 - val_loss: 0.1893 - val_accuracy: 0.9351\n",
      "Epoch 104/1000\n",
      "686/686 [==============================] - 0s 188us/sample - loss: 0.1908 - accuracy: 0.9242 - val_loss: 0.1930 - val_accuracy: 0.9351\n",
      "Epoch 105/1000\n",
      "686/686 [==============================] - 0s 209us/sample - loss: 0.2186 - accuracy: 0.9111 - val_loss: 0.1921 - val_accuracy: 0.9381\n",
      "Epoch 106/1000\n",
      "686/686 [==============================] - 0s 180us/sample - loss: 0.2088 - accuracy: 0.9038 - val_loss: 0.1893 - val_accuracy: 0.9351\n",
      "Epoch 107/1000\n",
      "686/686 [==============================] - 0s 196us/sample - loss: 0.2024 - accuracy: 0.9125 - val_loss: 0.1867 - val_accuracy: 0.9381\n",
      "Epoch 108/1000\n",
      "686/686 [==============================] - 0s 172us/sample - loss: 0.1796 - accuracy: 0.9344 - val_loss: 0.1857 - val_accuracy: 0.9351\n",
      "Epoch 109/1000\n",
      "686/686 [==============================] - 0s 196us/sample - loss: 0.1798 - accuracy: 0.9300 - val_loss: 0.1841 - val_accuracy: 0.9351\n",
      "Epoch 110/1000\n",
      "686/686 [==============================] - 0s 184us/sample - loss: 0.1698 - accuracy: 0.9286 - val_loss: 0.1844 - val_accuracy: 0.9381\n",
      "Epoch 111/1000\n",
      "686/686 [==============================] - 0s 194us/sample - loss: 0.1813 - accuracy: 0.9242 - val_loss: 0.1842 - val_accuracy: 0.9351\n",
      "Epoch 112/1000\n",
      "686/686 [==============================] - 0s 199us/sample - loss: 0.2318 - accuracy: 0.9038 - val_loss: 0.1830 - val_accuracy: 0.9351\n",
      "Epoch 113/1000\n",
      "686/686 [==============================] - 0s 199us/sample - loss: 0.1911 - accuracy: 0.9155 - val_loss: 0.1820 - val_accuracy: 0.9322\n",
      "Epoch 114/1000\n",
      "686/686 [==============================] - 0s 199us/sample - loss: 0.1837 - accuracy: 0.9257 - val_loss: 0.1812 - val_accuracy: 0.9292\n",
      "Epoch 115/1000\n",
      "686/686 [==============================] - 0s 180us/sample - loss: 0.1940 - accuracy: 0.9315 - val_loss: 0.1813 - val_accuracy: 0.9292\n",
      "Epoch 116/1000\n",
      "686/686 [==============================] - 0s 189us/sample - loss: 0.1970 - accuracy: 0.9111 - val_loss: 0.1812 - val_accuracy: 0.9292\n",
      "Epoch 117/1000\n",
      "686/686 [==============================] - 0s 188us/sample - loss: 0.1870 - accuracy: 0.9286 - val_loss: 0.1795 - val_accuracy: 0.9292\n",
      "Epoch 118/1000\n",
      "686/686 [==============================] - 0s 200us/sample - loss: 0.1799 - accuracy: 0.9257 - val_loss: 0.1795 - val_accuracy: 0.9292\n",
      "Epoch 119/1000\n",
      "686/686 [==============================] - 0s 173us/sample - loss: 0.1963 - accuracy: 0.9257 - val_loss: 0.1794 - val_accuracy: 0.9351\n",
      "Epoch 120/1000\n",
      "686/686 [==============================] - 0s 192us/sample - loss: 0.1929 - accuracy: 0.9213 - val_loss: 0.1774 - val_accuracy: 0.9351\n",
      "Epoch 121/1000\n",
      "686/686 [==============================] - 0s 191us/sample - loss: 0.1833 - accuracy: 0.9213 - val_loss: 0.1806 - val_accuracy: 0.9204\n",
      "Epoch 122/1000\n",
      "686/686 [==============================] - 0s 199us/sample - loss: 0.1631 - accuracy: 0.9402 - val_loss: 0.1782 - val_accuracy: 0.9204\n",
      "Epoch 123/1000\n",
      "686/686 [==============================] - 0s 195us/sample - loss: 0.1780 - accuracy: 0.9286 - val_loss: 0.1724 - val_accuracy: 0.9263\n",
      "Epoch 124/1000\n",
      "686/686 [==============================] - 0s 176us/sample - loss: 0.1738 - accuracy: 0.9213 - val_loss: 0.1710 - val_accuracy: 0.9263\n",
      "Epoch 125/1000\n",
      "686/686 [==============================] - 0s 203us/sample - loss: 0.1842 - accuracy: 0.9184 - val_loss: 0.1734 - val_accuracy: 0.9381\n",
      "Epoch 126/1000\n",
      "686/686 [==============================] - 0s 187us/sample - loss: 0.1828 - accuracy: 0.9184 - val_loss: 0.1704 - val_accuracy: 0.9381\n",
      "Epoch 127/1000\n",
      "686/686 [==============================] - 0s 178us/sample - loss: 0.1797 - accuracy: 0.9359 - val_loss: 0.1671 - val_accuracy: 0.9440\n",
      "Epoch 128/1000\n",
      "686/686 [==============================] - 0s 202us/sample - loss: 0.1670 - accuracy: 0.9373 - val_loss: 0.1675 - val_accuracy: 0.9351\n",
      "Epoch 129/1000\n",
      "686/686 [==============================] - 0s 182us/sample - loss: 0.1557 - accuracy: 0.9373 - val_loss: 0.1678 - val_accuracy: 0.9263\n",
      "Epoch 130/1000\n",
      "686/686 [==============================] - 0s 187us/sample - loss: 0.1995 - accuracy: 0.9271 - val_loss: 0.1651 - val_accuracy: 0.9381\n",
      "Epoch 131/1000\n",
      "686/686 [==============================] - 0s 195us/sample - loss: 0.1651 - accuracy: 0.9402 - val_loss: 0.1675 - val_accuracy: 0.9233\n",
      "Epoch 132/1000\n",
      "686/686 [==============================] - 0s 183us/sample - loss: 0.1755 - accuracy: 0.9227 - val_loss: 0.1654 - val_accuracy: 0.9351\n",
      "Epoch 133/1000\n",
      "686/686 [==============================] - 0s 179us/sample - loss: 0.1573 - accuracy: 0.9388 - val_loss: 0.1610 - val_accuracy: 0.9469\n",
      "Epoch 134/1000\n",
      "686/686 [==============================] - 0s 204us/sample - loss: 0.1520 - accuracy: 0.9417 - val_loss: 0.1602 - val_accuracy: 0.9469\n",
      "Epoch 135/1000\n",
      "686/686 [==============================] - 0s 188us/sample - loss: 0.1865 - accuracy: 0.9155 - val_loss: 0.1603 - val_accuracy: 0.9351\n",
      "Epoch 136/1000\n",
      "686/686 [==============================] - 0s 196us/sample - loss: 0.1784 - accuracy: 0.9257 - val_loss: 0.1606 - val_accuracy: 0.9351\n",
      "Epoch 137/1000\n",
      "686/686 [==============================] - 0s 199us/sample - loss: 0.1888 - accuracy: 0.9169 - val_loss: 0.1615 - val_accuracy: 0.9322\n",
      "Epoch 138/1000\n",
      "686/686 [==============================] - 0s 182us/sample - loss: 0.1616 - accuracy: 0.9329 - val_loss: 0.1598 - val_accuracy: 0.9381\n",
      "Epoch 139/1000\n",
      "686/686 [==============================] - 0s 187us/sample - loss: 0.1616 - accuracy: 0.9271 - val_loss: 0.1604 - val_accuracy: 0.9469\n",
      "Epoch 140/1000\n",
      "686/686 [==============================] - 0s 201us/sample - loss: 0.1480 - accuracy: 0.9417 - val_loss: 0.1591 - val_accuracy: 0.9469\n",
      "Epoch 141/1000\n",
      "686/686 [==============================] - 0s 175us/sample - loss: 0.1689 - accuracy: 0.9329 - val_loss: 0.1575 - val_accuracy: 0.9381\n",
      "Epoch 142/1000\n",
      "686/686 [==============================] - 0s 206us/sample - loss: 0.1631 - accuracy: 0.9388 - val_loss: 0.1569 - val_accuracy: 0.9469\n",
      "Epoch 143/1000\n",
      "686/686 [==============================] - 0s 187us/sample - loss: 0.1696 - accuracy: 0.9373 - val_loss: 0.1581 - val_accuracy: 0.9469\n",
      "Epoch 144/1000\n",
      "686/686 [==============================] - 0s 185us/sample - loss: 0.1527 - accuracy: 0.9417 - val_loss: 0.1571 - val_accuracy: 0.9469\n",
      "Epoch 145/1000\n",
      "686/686 [==============================] - 0s 177us/sample - loss: 0.1593 - accuracy: 0.9271 - val_loss: 0.1552 - val_accuracy: 0.9469\n",
      "Epoch 146/1000\n",
      "686/686 [==============================] - 0s 191us/sample - loss: 0.1802 - accuracy: 0.9329 - val_loss: 0.1542 - val_accuracy: 0.9469\n",
      "Epoch 147/1000\n",
      "686/686 [==============================] - 0s 195us/sample - loss: 0.1405 - accuracy: 0.9490 - val_loss: 0.1531 - val_accuracy: 0.9469\n",
      "Epoch 148/1000\n",
      "686/686 [==============================] - 0s 198us/sample - loss: 0.1792 - accuracy: 0.9300 - val_loss: 0.1519 - val_accuracy: 0.9469\n",
      "Epoch 149/1000\n",
      "686/686 [==============================] - 0s 187us/sample - loss: 0.1749 - accuracy: 0.9344 - val_loss: 0.1500 - val_accuracy: 0.9469\n",
      "Epoch 150/1000\n",
      "686/686 [==============================] - 0s 189us/sample - loss: 0.1830 - accuracy: 0.9184 - val_loss: 0.1497 - val_accuracy: 0.9469\n",
      "Epoch 151/1000\n",
      "686/686 [==============================] - 0s 190us/sample - loss: 0.1555 - accuracy: 0.9431 - val_loss: 0.1494 - val_accuracy: 0.9469\n",
      "Epoch 152/1000\n",
      "686/686 [==============================] - 0s 179us/sample - loss: 0.1575 - accuracy: 0.9373 - val_loss: 0.1516 - val_accuracy: 0.9499\n",
      "Epoch 153/1000\n",
      "686/686 [==============================] - 0s 192us/sample - loss: 0.1425 - accuracy: 0.9446 - val_loss: 0.1508 - val_accuracy: 0.9558\n",
      "Epoch 154/1000\n",
      "686/686 [==============================] - 0s 190us/sample - loss: 0.1739 - accuracy: 0.9300 - val_loss: 0.1488 - val_accuracy: 0.9499\n",
      "Epoch 155/1000\n",
      "686/686 [==============================] - 0s 199us/sample - loss: 0.1639 - accuracy: 0.9402 - val_loss: 0.1488 - val_accuracy: 0.9469\n",
      "Epoch 156/1000\n",
      "686/686 [==============================] - 0s 188us/sample - loss: 0.1507 - accuracy: 0.9359 - val_loss: 0.1430 - val_accuracy: 0.9528\n",
      "Epoch 157/1000\n",
      "686/686 [==============================] - 0s 190us/sample - loss: 0.1464 - accuracy: 0.9431 - val_loss: 0.1429 - val_accuracy: 0.9528\n",
      "Epoch 158/1000\n",
      "686/686 [==============================] - 0s 196us/sample - loss: 0.1492 - accuracy: 0.9402 - val_loss: 0.1415 - val_accuracy: 0.9528\n",
      "Epoch 159/1000\n",
      "686/686 [==============================] - 0s 184us/sample - loss: 0.1344 - accuracy: 0.9577 - val_loss: 0.1430 - val_accuracy: 0.9469\n",
      "Epoch 160/1000\n",
      "686/686 [==============================] - 0s 188us/sample - loss: 0.1673 - accuracy: 0.9242 - val_loss: 0.1408 - val_accuracy: 0.9587\n",
      "Epoch 161/1000\n",
      "686/686 [==============================] - 0s 179us/sample - loss: 0.1395 - accuracy: 0.9446 - val_loss: 0.1392 - val_accuracy: 0.9646\n",
      "Epoch 162/1000\n",
      "686/686 [==============================] - 0s 193us/sample - loss: 0.1506 - accuracy: 0.9431 - val_loss: 0.1384 - val_accuracy: 0.9617\n",
      "Epoch 163/1000\n",
      "686/686 [==============================] - 0s 188us/sample - loss: 0.1494 - accuracy: 0.9359 - val_loss: 0.1372 - val_accuracy: 0.9646\n",
      "Epoch 164/1000\n",
      "686/686 [==============================] - 0s 207us/sample - loss: 0.1488 - accuracy: 0.9446 - val_loss: 0.1385 - val_accuracy: 0.9558\n",
      "Epoch 165/1000\n",
      "686/686 [==============================] - 0s 166us/sample - loss: 0.1567 - accuracy: 0.9329 - val_loss: 0.1350 - val_accuracy: 0.9617\n",
      "Epoch 166/1000\n",
      "686/686 [==============================] - 0s 181us/sample - loss: 0.1464 - accuracy: 0.9475 - val_loss: 0.1353 - val_accuracy: 0.9528\n",
      "Epoch 167/1000\n",
      "686/686 [==============================] - 0s 198us/sample - loss: 0.1604 - accuracy: 0.9242 - val_loss: 0.1381 - val_accuracy: 0.9558\n",
      "Epoch 168/1000\n",
      "686/686 [==============================] - 0s 193us/sample - loss: 0.1411 - accuracy: 0.9504 - val_loss: 0.1377 - val_accuracy: 0.9617\n",
      "Epoch 169/1000\n",
      "686/686 [==============================] - 0s 182us/sample - loss: 0.1427 - accuracy: 0.9315 - val_loss: 0.1376 - val_accuracy: 0.9558\n",
      "Epoch 170/1000\n",
      "686/686 [==============================] - 0s 196us/sample - loss: 0.1621 - accuracy: 0.9271 - val_loss: 0.1391 - val_accuracy: 0.9558\n",
      "Epoch 171/1000\n",
      "686/686 [==============================] - 0s 205us/sample - loss: 0.1353 - accuracy: 0.9519 - val_loss: 0.1370 - val_accuracy: 0.9558\n",
      "Epoch 172/1000\n",
      "686/686 [==============================] - 0s 195us/sample - loss: 0.1413 - accuracy: 0.9344 - val_loss: 0.1356 - val_accuracy: 0.9558\n",
      "Epoch 173/1000\n",
      "686/686 [==============================] - 0s 188us/sample - loss: 0.1616 - accuracy: 0.9402 - val_loss: 0.1365 - val_accuracy: 0.9499\n",
      "Epoch 174/1000\n",
      "686/686 [==============================] - 0s 190us/sample - loss: 0.1178 - accuracy: 0.9592 - val_loss: 0.1337 - val_accuracy: 0.9587\n",
      "Epoch 175/1000\n",
      "686/686 [==============================] - 0s 260us/sample - loss: 0.1555 - accuracy: 0.9315 - val_loss: 0.1316 - val_accuracy: 0.9587\n",
      "Epoch 176/1000\n",
      "686/686 [==============================] - 0s 178us/sample - loss: 0.1515 - accuracy: 0.9315 - val_loss: 0.1311 - val_accuracy: 0.9587\n",
      "Epoch 177/1000\n",
      "686/686 [==============================] - 0s 198us/sample - loss: 0.1410 - accuracy: 0.9431 - val_loss: 0.1352 - val_accuracy: 0.9528\n",
      "Epoch 178/1000\n",
      "686/686 [==============================] - 0s 190us/sample - loss: 0.1321 - accuracy: 0.9534 - val_loss: 0.1327 - val_accuracy: 0.9587\n",
      "Epoch 179/1000\n",
      "686/686 [==============================] - 0s 208us/sample - loss: 0.1738 - accuracy: 0.9315 - val_loss: 0.1347 - val_accuracy: 0.9587\n",
      "Epoch 180/1000\n",
      "686/686 [==============================] - 0s 187us/sample - loss: 0.1337 - accuracy: 0.9446 - val_loss: 0.1352 - val_accuracy: 0.9528\n",
      "Epoch 181/1000\n",
      "686/686 [==============================] - 0s 203us/sample - loss: 0.1299 - accuracy: 0.9431 - val_loss: 0.1384 - val_accuracy: 0.9558\n",
      "Epoch 182/1000\n",
      "686/686 [==============================] - 0s 199us/sample - loss: 0.1618 - accuracy: 0.9329 - val_loss: 0.1321 - val_accuracy: 0.9676\n",
      "Epoch 183/1000\n",
      "686/686 [==============================] - 0s 196us/sample - loss: 0.1261 - accuracy: 0.9475 - val_loss: 0.1324 - val_accuracy: 0.9528\n",
      "Epoch 184/1000\n",
      "686/686 [==============================] - 0s 192us/sample - loss: 0.1439 - accuracy: 0.9446 - val_loss: 0.1321 - val_accuracy: 0.9587\n",
      "Epoch 185/1000\n",
      "686/686 [==============================] - 0s 168us/sample - loss: 0.1446 - accuracy: 0.9446 - val_loss: 0.1309 - val_accuracy: 0.9587\n",
      "Epoch 186/1000\n",
      "686/686 [==============================] - 0s 199us/sample - loss: 0.1490 - accuracy: 0.9461 - val_loss: 0.1307 - val_accuracy: 0.9646\n",
      "Epoch 187/1000\n",
      "686/686 [==============================] - 0s 178us/sample - loss: 0.1403 - accuracy: 0.9446 - val_loss: 0.1325 - val_accuracy: 0.9499\n",
      "Epoch 188/1000\n",
      "686/686 [==============================] - 0s 198us/sample - loss: 0.1276 - accuracy: 0.9461 - val_loss: 0.1306 - val_accuracy: 0.9528\n",
      "Epoch 189/1000\n",
      "686/686 [==============================] - 0s 166us/sample - loss: 0.1159 - accuracy: 0.9577 - val_loss: 0.1317 - val_accuracy: 0.9587\n",
      "Epoch 190/1000\n",
      "686/686 [==============================] - 0s 189us/sample - loss: 0.1364 - accuracy: 0.9534 - val_loss: 0.1287 - val_accuracy: 0.9587\n",
      "Epoch 191/1000\n",
      "686/686 [==============================] - 0s 185us/sample - loss: 0.1430 - accuracy: 0.9475 - val_loss: 0.1250 - val_accuracy: 0.9676\n",
      "Epoch 192/1000\n",
      "686/686 [==============================] - 0s 179us/sample - loss: 0.1554 - accuracy: 0.9315 - val_loss: 0.1258 - val_accuracy: 0.9617\n",
      "Epoch 193/1000\n",
      "686/686 [==============================] - 0s 203us/sample - loss: 0.1311 - accuracy: 0.9548 - val_loss: 0.1254 - val_accuracy: 0.9735\n",
      "Epoch 194/1000\n",
      "686/686 [==============================] - 0s 177us/sample - loss: 0.1433 - accuracy: 0.9373 - val_loss: 0.1265 - val_accuracy: 0.9676\n",
      "Epoch 195/1000\n",
      "686/686 [==============================] - 0s 205us/sample - loss: 0.1490 - accuracy: 0.9388 - val_loss: 0.1269 - val_accuracy: 0.9676\n",
      "Epoch 196/1000\n",
      "686/686 [==============================] - 0s 184us/sample - loss: 0.1360 - accuracy: 0.9446 - val_loss: 0.1255 - val_accuracy: 0.9735\n",
      "Epoch 197/1000\n",
      "686/686 [==============================] - 0s 184us/sample - loss: 0.1186 - accuracy: 0.9563 - val_loss: 0.1263 - val_accuracy: 0.9558\n",
      "Epoch 198/1000\n",
      "686/686 [==============================] - 0s 196us/sample - loss: 0.1505 - accuracy: 0.9329 - val_loss: 0.1270 - val_accuracy: 0.9558\n",
      "Epoch 199/1000\n",
      "686/686 [==============================] - 0s 180us/sample - loss: 0.1271 - accuracy: 0.9431 - val_loss: 0.1265 - val_accuracy: 0.9676\n",
      "Epoch 200/1000\n",
      "686/686 [==============================] - 0s 183us/sample - loss: 0.1383 - accuracy: 0.9490 - val_loss: 0.1253 - val_accuracy: 0.9676\n",
      "Epoch 201/1000\n",
      "686/686 [==============================] - 0s 166us/sample - loss: 0.1410 - accuracy: 0.9373 - val_loss: 0.1269 - val_accuracy: 0.9646\n",
      "Epoch 202/1000\n",
      "686/686 [==============================] - 0s 156us/sample - loss: 0.1233 - accuracy: 0.9548 - val_loss: 0.1254 - val_accuracy: 0.9617\n",
      "Epoch 203/1000\n",
      "686/686 [==============================] - 0s 193us/sample - loss: 0.1412 - accuracy: 0.9431 - val_loss: 0.1270 - val_accuracy: 0.9587\n",
      "Epoch 204/1000\n",
      "686/686 [==============================] - 0s 202us/sample - loss: 0.1368 - accuracy: 0.9446 - val_loss: 0.1237 - val_accuracy: 0.9617\n",
      "Epoch 205/1000\n",
      "686/686 [==============================] - 0s 194us/sample - loss: 0.1215 - accuracy: 0.9577 - val_loss: 0.1261 - val_accuracy: 0.9440\n",
      "Epoch 206/1000\n",
      "686/686 [==============================] - 0s 189us/sample - loss: 0.1111 - accuracy: 0.9621 - val_loss: 0.1273 - val_accuracy: 0.9440\n",
      "Epoch 207/1000\n",
      "686/686 [==============================] - 0s 198us/sample - loss: 0.1268 - accuracy: 0.9577 - val_loss: 0.1228 - val_accuracy: 0.9735\n",
      "Epoch 208/1000\n",
      "686/686 [==============================] - 0s 187us/sample - loss: 0.1248 - accuracy: 0.9563 - val_loss: 0.1228 - val_accuracy: 0.9646\n",
      "Epoch 209/1000\n",
      "686/686 [==============================] - 0s 188us/sample - loss: 0.1142 - accuracy: 0.9504 - val_loss: 0.1201 - val_accuracy: 0.9735\n",
      "Epoch 210/1000\n",
      "686/686 [==============================] - 0s 188us/sample - loss: 0.1214 - accuracy: 0.9519 - val_loss: 0.1196 - val_accuracy: 0.9735\n",
      "Epoch 211/1000\n",
      "686/686 [==============================] - 0s 188us/sample - loss: 0.1273 - accuracy: 0.9534 - val_loss: 0.1188 - val_accuracy: 0.9735\n",
      "Epoch 212/1000\n",
      "686/686 [==============================] - 0s 209us/sample - loss: 0.1195 - accuracy: 0.9606 - val_loss: 0.1189 - val_accuracy: 0.9735\n",
      "Epoch 213/1000\n",
      "686/686 [==============================] - 0s 170us/sample - loss: 0.1211 - accuracy: 0.9563 - val_loss: 0.1176 - val_accuracy: 0.9617\n",
      "Epoch 214/1000\n",
      "686/686 [==============================] - 0s 204us/sample - loss: 0.1203 - accuracy: 0.9519 - val_loss: 0.1190 - val_accuracy: 0.9617\n",
      "Epoch 215/1000\n",
      "686/686 [==============================] - 0s 177us/sample - loss: 0.1410 - accuracy: 0.9431 - val_loss: 0.1215 - val_accuracy: 0.9646\n",
      "Epoch 216/1000\n",
      "686/686 [==============================] - 0s 198us/sample - loss: 0.1300 - accuracy: 0.9373 - val_loss: 0.1223 - val_accuracy: 0.9499\n",
      "Epoch 217/1000\n",
      "686/686 [==============================] - 0s 193us/sample - loss: 0.1098 - accuracy: 0.9606 - val_loss: 0.1218 - val_accuracy: 0.9499\n",
      "Epoch 218/1000\n",
      "686/686 [==============================] - 0s 195us/sample - loss: 0.1310 - accuracy: 0.9534 - val_loss: 0.1211 - val_accuracy: 0.9499\n",
      "Epoch 219/1000\n",
      "686/686 [==============================] - 0s 199us/sample - loss: 0.1363 - accuracy: 0.9577 - val_loss: 0.1188 - val_accuracy: 0.9558\n",
      "Epoch 220/1000\n",
      "686/686 [==============================] - 0s 205us/sample - loss: 0.1407 - accuracy: 0.9475 - val_loss: 0.1179 - val_accuracy: 0.9587\n",
      "Epoch 221/1000\n",
      "686/686 [==============================] - 0s 190us/sample - loss: 0.1359 - accuracy: 0.9490 - val_loss: 0.1171 - val_accuracy: 0.9528\n",
      "Epoch 222/1000\n",
      "686/686 [==============================] - 0s 193us/sample - loss: 0.1152 - accuracy: 0.9592 - val_loss: 0.1187 - val_accuracy: 0.9499\n",
      "Epoch 223/1000\n",
      "686/686 [==============================] - 0s 197us/sample - loss: 0.1120 - accuracy: 0.9606 - val_loss: 0.1206 - val_accuracy: 0.9469\n",
      "Epoch 224/1000\n",
      "686/686 [==============================] - 0s 188us/sample - loss: 0.1126 - accuracy: 0.9548 - val_loss: 0.1185 - val_accuracy: 0.9617\n",
      "Epoch 225/1000\n",
      "686/686 [==============================] - 0s 200us/sample - loss: 0.1086 - accuracy: 0.9577 - val_loss: 0.1196 - val_accuracy: 0.9617\n",
      "Epoch 226/1000\n",
      "686/686 [==============================] - 0s 205us/sample - loss: 0.1163 - accuracy: 0.9548 - val_loss: 0.1208 - val_accuracy: 0.9646\n",
      "Epoch 227/1000\n",
      "686/686 [==============================] - 0s 200us/sample - loss: 0.1133 - accuracy: 0.9650 - val_loss: 0.1215 - val_accuracy: 0.9558\n",
      "Epoch 228/1000\n",
      "686/686 [==============================] - 0s 182us/sample - loss: 0.1201 - accuracy: 0.9679 - val_loss: 0.1209 - val_accuracy: 0.9617\n",
      "Epoch 229/1000\n",
      "686/686 [==============================] - 0s 194us/sample - loss: 0.1271 - accuracy: 0.9592 - val_loss: 0.1220 - val_accuracy: 0.9646\n",
      "Epoch 230/1000\n",
      "686/686 [==============================] - 0s 197us/sample - loss: 0.1290 - accuracy: 0.9475 - val_loss: 0.1219 - val_accuracy: 0.9676\n",
      "Epoch 231/1000\n",
      "686/686 [==============================] - 0s 191us/sample - loss: 0.1119 - accuracy: 0.9461 - val_loss: 0.1223 - val_accuracy: 0.9705\n",
      "Epoch 232/1000\n",
      "686/686 [==============================] - 0s 179us/sample - loss: 0.1025 - accuracy: 0.9708 - val_loss: 0.1223 - val_accuracy: 0.9646\n",
      "Epoch 233/1000\n",
      "686/686 [==============================] - 0s 188us/sample - loss: 0.1048 - accuracy: 0.9592 - val_loss: 0.1212 - val_accuracy: 0.9646\n",
      "Epoch 234/1000\n",
      "686/686 [==============================] - 0s 203us/sample - loss: 0.1027 - accuracy: 0.9679 - val_loss: 0.1188 - val_accuracy: 0.9646\n",
      "Epoch 235/1000\n",
      "686/686 [==============================] - 0s 178us/sample - loss: 0.1211 - accuracy: 0.9592 - val_loss: 0.1167 - val_accuracy: 0.9646\n",
      "Epoch 236/1000\n",
      "686/686 [==============================] - 0s 183us/sample - loss: 0.1137 - accuracy: 0.9534 - val_loss: 0.1150 - val_accuracy: 0.9646\n",
      "Epoch 237/1000\n",
      "686/686 [==============================] - 0s 190us/sample - loss: 0.1110 - accuracy: 0.9548 - val_loss: 0.1110 - val_accuracy: 0.9617\n",
      "Epoch 238/1000\n",
      "686/686 [==============================] - 0s 205us/sample - loss: 0.1064 - accuracy: 0.9636 - val_loss: 0.1131 - val_accuracy: 0.9617\n",
      "Epoch 239/1000\n",
      "686/686 [==============================] - 0s 178us/sample - loss: 0.1138 - accuracy: 0.9548 - val_loss: 0.1135 - val_accuracy: 0.9646\n",
      "Epoch 240/1000\n",
      "686/686 [==============================] - 0s 203us/sample - loss: 0.1066 - accuracy: 0.9577 - val_loss: 0.1155 - val_accuracy: 0.9646\n",
      "Epoch 241/1000\n",
      "686/686 [==============================] - 0s 171us/sample - loss: 0.1173 - accuracy: 0.9446 - val_loss: 0.1141 - val_accuracy: 0.9646\n",
      "Epoch 242/1000\n",
      "686/686 [==============================] - 0s 218us/sample - loss: 0.1031 - accuracy: 0.9621 - val_loss: 0.1132 - val_accuracy: 0.9764\n",
      "Epoch 243/1000\n",
      "686/686 [==============================] - 0s 216us/sample - loss: 0.1067 - accuracy: 0.9577 - val_loss: 0.1125 - val_accuracy: 0.9646\n",
      "Epoch 244/1000\n",
      "686/686 [==============================] - 0s 175us/sample - loss: 0.1089 - accuracy: 0.9563 - val_loss: 0.1119 - val_accuracy: 0.9646\n",
      "Epoch 245/1000\n",
      "686/686 [==============================] - 0s 198us/sample - loss: 0.1171 - accuracy: 0.9563 - val_loss: 0.1123 - val_accuracy: 0.9705\n",
      "Epoch 246/1000\n",
      "686/686 [==============================] - 0s 205us/sample - loss: 0.1102 - accuracy: 0.9592 - val_loss: 0.1112 - val_accuracy: 0.9764\n",
      "Epoch 247/1000\n",
      "686/686 [==============================] - 0s 201us/sample - loss: 0.1221 - accuracy: 0.9650 - val_loss: 0.1117 - val_accuracy: 0.9705\n",
      "Epoch 248/1000\n",
      "686/686 [==============================] - 0s 186us/sample - loss: 0.1092 - accuracy: 0.9577 - val_loss: 0.1120 - val_accuracy: 0.9705\n",
      "Epoch 249/1000\n",
      "686/686 [==============================] - 0s 196us/sample - loss: 0.0940 - accuracy: 0.9694 - val_loss: 0.1127 - val_accuracy: 0.9705\n",
      "Epoch 250/1000\n",
      "686/686 [==============================] - 0s 180us/sample - loss: 0.0901 - accuracy: 0.9708 - val_loss: 0.1130 - val_accuracy: 0.9705\n",
      "Epoch 251/1000\n",
      "686/686 [==============================] - 0s 155us/sample - loss: 0.1077 - accuracy: 0.9636 - val_loss: 0.1141 - val_accuracy: 0.9705\n",
      "Epoch 252/1000\n",
      "686/686 [==============================] - 0s 152us/sample - loss: 0.1086 - accuracy: 0.9548 - val_loss: 0.1130 - val_accuracy: 0.9705\n",
      "Epoch 253/1000\n",
      "686/686 [==============================] - 0s 165us/sample - loss: 0.1080 - accuracy: 0.9592 - val_loss: 0.1135 - val_accuracy: 0.9705\n",
      "Epoch 254/1000\n",
      "686/686 [==============================] - 0s 174us/sample - loss: 0.1038 - accuracy: 0.9665 - val_loss: 0.1137 - val_accuracy: 0.9705\n",
      "Epoch 255/1000\n",
      "686/686 [==============================] - 0s 177us/sample - loss: 0.1189 - accuracy: 0.9490 - val_loss: 0.1150 - val_accuracy: 0.9705\n",
      "Epoch 256/1000\n",
      "686/686 [==============================] - 0s 188us/sample - loss: 0.0932 - accuracy: 0.9636 - val_loss: 0.1137 - val_accuracy: 0.9823\n",
      "Epoch 257/1000\n",
      "686/686 [==============================] - 0s 194us/sample - loss: 0.0950 - accuracy: 0.9621 - val_loss: 0.1151 - val_accuracy: 0.9823\n",
      "Epoch 258/1000\n",
      "686/686 [==============================] - 0s 193us/sample - loss: 0.1059 - accuracy: 0.9665 - val_loss: 0.1163 - val_accuracy: 0.9823\n",
      "Epoch 259/1000\n",
      "686/686 [==============================] - 0s 189us/sample - loss: 0.0960 - accuracy: 0.9679 - val_loss: 0.1190 - val_accuracy: 0.9823\n",
      "Epoch 260/1000\n",
      "686/686 [==============================] - 0s 182us/sample - loss: 0.1079 - accuracy: 0.9563 - val_loss: 0.1177 - val_accuracy: 0.9823\n",
      "Epoch 261/1000\n",
      "686/686 [==============================] - 0s 194us/sample - loss: 0.0907 - accuracy: 0.9636 - val_loss: 0.1143 - val_accuracy: 0.9823\n",
      "Epoch 262/1000\n",
      "686/686 [==============================] - 0s 194us/sample - loss: 0.1153 - accuracy: 0.9519 - val_loss: 0.1147 - val_accuracy: 0.9705\n",
      "Epoch 00262: early stopping\n"
     ]
    },
    {
     "data": {
      "text/plain": [
       "<tensorflow.python.keras.callbacks.History at 0x2737c2aac48>"
      ]
     },
     "execution_count": 69,
     "metadata": {},
     "output_type": "execute_result"
    }
   ],
   "source": [
    "#define the Dense layers and activation functions\n",
    "\n",
    "nn = tf.keras.Sequential()\n",
    "\n",
    "nn.add(Dense(30, activation='relu'))\n",
    "\n",
    "nn.add(Dropout(0.2))\n",
    "\n",
    "nn.add(Dense(15, activation='relu'))\n",
    "\n",
    "nn.add(Dropout(0.2))\n",
    "\n",
    "nn.add(Dense(1, activation='sigmoid'))\n",
    "\n",
    "nn.compile(optimizer = 'adam', loss = 'binary_crossentropy', metrics=['accuracy'])\n",
    "\n",
    "early_stop = EarlyStopping(monitor='val_loss',mode='min', verbose=1, patience=25)\n",
    "\n",
    "nn.fit(X_train, y_train, epochs = 1000, validation_data=(X_test, y_test),\n",
    "         callbacks=[early_stop])"
   ]
  },
  {
   "cell_type": "code",
   "execution_count": 70,
   "metadata": {},
   "outputs": [
    {
     "data": {
      "text/plain": [
       "<matplotlib.axes._subplots.AxesSubplot at 0x2737c114808>"
      ]
     },
     "execution_count": 70,
     "metadata": {},
     "output_type": "execute_result"
    },
    {
     "data": {
      "image/png": "[encoded data removed]",
      "text/plain": [
       "<Figure size 432x288 with 1 Axes>"
      ]
     },
     "metadata": {
      "needs_background": "light"
     },
     "output_type": "display_data"
    }
   ],
   "source": [
    "#plot the model loss\n",
    "\n",
    "model_loss = pd.DataFrame(nn.history.history)\n",
    "model_loss.plot()"
   ]
  },
  {
   "cell_type": "code",
   "execution_count": 71,
   "metadata": {},
   "outputs": [
    {
     "data": {
      "text/plain": [
       "[0.11465661724408467, 0.9705015]"
      ]
     },
     "execution_count": 71,
     "metadata": {},
     "output_type": "execute_result"
    }
   ],
   "source": [
    "nn.evaluate(X_test, y_test, verbose=0)"
   ]
  },
  {
   "cell_type": "code",
   "execution_count": 72,
   "metadata": {},
   "outputs": [
    {
     "data": {
      "text/plain": [
       "[0.038857235706278255, 0.9941691]"
      ]
     },
     "execution_count": 72,
     "metadata": {},
     "output_type": "execute_result"
    }
   ],
   "source": [
    "nn.evaluate(X_train, y_train, verbose=0)"
   ]
  },
  {
   "cell_type": "code",
   "execution_count": 24,
   "metadata": {},
   "outputs": [],
   "source": [
    "pred = nn.predict(X_test)"
   ]
  },
  {
   "cell_type": "code",
   "execution_count": 30,
   "metadata": {},
   "outputs": [],
   "source": [
    "pred = pd.Series(pred.reshape(339,))"
   ]
  },
  {
   "cell_type": "code",
   "execution_count": 36,
   "metadata": {},
   "outputs": [],
   "source": [
    "pred_df = pd.DataFrame(y_test,columns=['Tes True Y'])"
   ]
  },
  {
   "cell_type": "code",
   "execution_count": 37,
   "metadata": {},
   "outputs": [],
   "source": [
    "pred_df = pd.concat([pred_df, pred], axis=1)"
   ]
  },
  {
   "cell_type": "code",
   "execution_count": 40,
   "metadata": {},
   "outputs": [],
   "source": [
    "pred_df.columns = ['Test True Y', 'Model Predictions']"
   ]
  },
  {
   "cell_type": "code",
   "execution_count": 41,
   "metadata": {},
   "outputs": [
    {
     "data": {
      "text/html": [
       "<div>\n",
       "<style scoped>\n",
       "    .dataframe tbody tr th:only-of-type {\n",
       "        vertical-align: middle;\n",
       "    }\n",
       "\n",
       "    .dataframe tbody tr th {\n",
       "        vertical-align: top;\n",
       "    }\n",
       "\n",
       "    .dataframe thead th {\n",
       "        text-align: right;\n",
       "    }\n",
       "</style>\n",
       "<table border=\"1\" class=\"dataframe\">\n",
       "  <thead>\n",
       "    <tr style=\"text-align: right;\">\n",
       "      <th></th>\n",
       "      <th>Test True Y</th>\n",
       "      <th>Model Predictions</th>\n",
       "    </tr>\n",
       "  </thead>\n",
       "  <tbody>\n",
       "    <tr>\n",
       "      <th>0</th>\n",
       "      <td>0</td>\n",
       "      <td>0.003181</td>\n",
       "    </tr>\n",
       "    <tr>\n",
       "      <th>1</th>\n",
       "      <td>0</td>\n",
       "      <td>0.004824</td>\n",
       "    </tr>\n",
       "    <tr>\n",
       "      <th>2</th>\n",
       "      <td>0</td>\n",
       "      <td>0.123287</td>\n",
       "    </tr>\n",
       "    <tr>\n",
       "      <th>3</th>\n",
       "      <td>1</td>\n",
       "      <td>0.992548</td>\n",
       "    </tr>\n",
       "    <tr>\n",
       "      <th>4</th>\n",
       "      <td>0</td>\n",
       "      <td>0.001998</td>\n",
       "    </tr>\n",
       "  </tbody>\n",
       "</table>\n",
       "</div>"
      ],
      "text/plain": [
       "   Test True Y  Model Predictions\n",
       "0            0           0.003181\n",
       "1            0           0.004824\n",
       "2            0           0.123287\n",
       "3            1           0.992548\n",
       "4            0           0.001998"
      ]
     },
     "execution_count": 41,
     "metadata": {},
     "output_type": "execute_result"
    }
   ],
   "source": [
    "pred_df.head()"
   ]
  },
  {
   "cell_type": "code",
   "execution_count": 42,
   "metadata": {
    "collapsed": true
   },
   "outputs": [
    {
     "data": {
      "text/plain": [
       "<matplotlib.axes._subplots.AxesSubplot at 0x2737bcde208>"
      ]
     },
     "execution_count": 42,
     "metadata": {},
     "output_type": "execute_result"
    },
    {
     "data": {
      "image/png": "[encoded data removed]",
      "text/plain": [
       "<Figure size 432x288 with 1 Axes>"
      ]
     },
     "metadata": {
      "needs_background": "light"
     },
     "output_type": "display_data"
    }
   ],
   "source": [
    "sns.scatterplot(x='Test True Y', y='Model Predictions', data=pred_df)"
   ]
  },
  {
   "cell_type": "code",
   "execution_count": 44,
   "metadata": {},
   "outputs": [],
   "source": [
    "from sklearn.metrics import mean_absolute_error, mean_squared_error"
   ]
  },
  {
   "cell_type": "code",
   "execution_count": 46,
   "metadata": {},
   "outputs": [
    {
     "data": {
      "text/plain": [
       "0.06568191901596598"
      ]
     },
     "execution_count": 46,
     "metadata": {},
     "output_type": "execute_result"
    }
   ],
   "source": [
    "mean_absolute_error(pred_df['Test True Y'], pred_df['Model Predictions'])"
   ]
  },
  {
   "cell_type": "code",
   "execution_count": 49,
   "metadata": {},
   "outputs": [
    {
     "data": {
      "text/plain": [
       "0.02833603497919513"
      ]
     },
     "execution_count": 49,
     "metadata": {},
     "output_type": "execute_result"
    }
   ],
   "source": [
    "mean_squared_error(pred_df['Test True Y'], pred_df['Model Predictions'])"
   ]
  },
  {
   "cell_type": "code",
   "execution_count": 23,
   "metadata": {},
   "outputs": [],
   "source": [
    "predictions = nn.predict_classes(X_test)"
   ]
  },
  {
   "cell_type": "code",
   "execution_count": 48,
   "metadata": {},
   "outputs": [
    {
     "name": "stdout",
     "output_type": "stream",
     "text": [
      "              precision    recall  f1-score   support\n",
      "\n",
      "           0       0.97      0.96      0.97       165\n",
      "           1       0.97      0.97      0.97       174\n",
      "\n",
      "    accuracy                           0.97       339\n",
      "   macro avg       0.97      0.97      0.97       339\n",
      "weighted avg       0.97      0.97      0.97       339\n",
      "\n",
      "[[159   6]\n",
      " [  5 169]]\n"
     ]
    }
   ],
   "source": [
    "#test the accuracy of the network\n",
    "\n",
    "from sklearn.metrics import classification_report,confusion_matrix\n",
    "\n",
    "print(classification_report(y_test,predictions))\n",
    "print(confusion_matrix(y_test,predictions))"
   ]
  },
  {
   "cell_type": "code",
   "execution_count": 56,
   "metadata": {},
   "outputs": [
    {
     "data": {
      "text/plain": [
       "array([[0]])"
      ]
     },
     "execution_count": 56,
     "metadata": {},
     "output_type": "execute_result"
    }
   ],
   "source": [
    "X_new = [[52,1,0,125,212,0,1,168,0,1.0,2,2,3]]\n",
    "X_new = scaler.transform(X_new)\n",
    "nn.predict_classes(X_new)"
   ]
  },
  {
   "cell_type": "code",
   "execution_count": 57,
   "metadata": {},
   "outputs": [
    {
     "data": {
      "text/plain": [
       "array([[1]])"
      ]
     },
     "execution_count": 57,
     "metadata": {},
     "output_type": "execute_result"
    }
   ],
   "source": [
    "X_new2 = [[59,1,1,140,221,0,1,164,1,0.0,2,0,2]]\n",
    "X_new2 = scaler.transform(X_new2)\n",
    "nn.predict_classes(X_new2)"
   ]
  },
  {
   "cell_type": "code",
   "execution_count": 58,
   "metadata": {},
   "outputs": [],
   "source": [
    "from tensorflow.keras.models import load_model"
   ]
  },
  {
   "cell_type": "code",
   "execution_count": 59,
   "metadata": {},
   "outputs": [],
   "source": [
    "nn.save(\"heart_disease_model.h5\")"
   ]
  },
  {
   "cell_type": "code",
   "execution_count": 60,
   "metadata": {},
   "outputs": [
    {
     "name": "stdout",
     "output_type": "stream",
     "text": [
      "WARNING:tensorflow:Sequential models without an `input_shape` passed to the first layer cannot reload their optimizer state. As a result, your model isstarting with a freshly initialized optimizer.\n"
     ]
    }
   ],
   "source": [
    "later_model = load_model(\"heart_disease_model.h5\")"
   ]
  },
  {
   "cell_type": "code",
   "execution_count": 61,
   "metadata": {},
   "outputs": [
    {
     "data": {
      "text/plain": [
       "array([[1]])"
      ]
     },
     "execution_count": 61,
     "metadata": {},
     "output_type": "execute_result"
    }
   ],
   "source": [
    "later_model.predict_classes(X_new2)"
   ]
  },
  {
   "cell_type": "code",
   "execution_count": null,
   "metadata": {},
   "outputs": [],
   "source": []
  },
  {
   "cell_type": "code",
   "execution_count": null,
   "metadata": {},
   "outputs": [],
   "source": []
  },
  {
   "cell_type": "code",
   "execution_count": null,
   "metadata": {},
   "outputs": [],
   "source": []
  },
  {
   "cell_type": "code",
   "execution_count": null,
   "metadata": {},
   "outputs": [],
   "source": []
  },
  {
   "cell_type": "code",
   "execution_count": null,
   "metadata": {},
   "outputs": [],
   "source": []
  },
  {
   "cell_type": "code",
   "execution_count": null,
   "metadata": {},
   "outputs": [],
   "source": []
  },
  {
   "cell_type": "code",
   "execution_count": null,
   "metadata": {},
   "outputs": [],
   "source": []
  },
  {
   "cell_type": "code",
   "execution_count": null,
   "metadata": {},
   "outputs": [],
   "source": []
  }
 ],
 "metadata": {
  "kernelspec": {
   "display_name": "Python 3",
   "language": "python",
   "name": "python3"
  },
  "language_info": {
   "codemirror_mode": {
    "name": "ipython",
    "version": 3
   },
   "file_extension": ".py",
   "mimetype": "text/x-python",
   "name": "python",
   "nbconvert_exporter": "python",
   "pygments_lexer": "ipython3",
   "version": "3.7.6"
  }
 },
 "nbformat": 4,
 "nbformat_minor": 2
}
